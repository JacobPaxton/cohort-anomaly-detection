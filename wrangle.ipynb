{
 "cells": [
  {
   "cell_type": "markdown",
   "id": "93daf06a",
   "metadata": {},
   "source": [
    "# Wrangle\n",
    "Quick first acquisition of the cohort data. Will push these cells to a wrangle.py script."
   ]
  },
  {
   "cell_type": "code",
   "execution_count": 1,
   "id": "057cb844",
   "metadata": {},
   "outputs": [],
   "source": [
    "import pandas as pd\n",
    "# from env import host, username, password"
   ]
  },
  {
   "cell_type": "code",
   "execution_count": 2,
   "id": "5ee83dfd",
   "metadata": {},
   "outputs": [],
   "source": [
    "# url creation for sql query\n",
    "# def get_db_url(db_name, username=username, hostname=host, password=password):\n",
    "#     return f'mysql+pymysql://{username}:{password}@{hostname}/{db_name}'"
   ]
  },
  {
   "cell_type": "code",
   "execution_count": 3,
   "id": "9209e692",
   "metadata": {},
   "outputs": [],
   "source": [
    "# url = get_db_url(db_name='curriculum_logs')"
   ]
  },
  {
   "cell_type": "code",
   "execution_count": 4,
   "id": "9e7c8848",
   "metadata": {},
   "outputs": [],
   "source": [
    "# build query\n",
    "# query = \"\"\"\n",
    "#             SELECT * FROM logs\n",
    "#             JOIN cohorts ON logs.cohort_id = cohorts.id\n",
    "#         \"\"\""
   ]
  },
  {
   "cell_type": "code",
   "execution_count": 5,
   "id": "80e1e870",
   "metadata": {},
   "outputs": [],
   "source": [
    "# run query\n",
    "# df = pd.read_sql(query, url)\n",
    "# df.head(10)"
   ]
  },
  {
   "cell_type": "code",
   "execution_count": 6,
   "id": "78e643ad",
   "metadata": {},
   "outputs": [],
   "source": [
    "# set datetime index\n",
    "# df['date'] = df['date'].astype('datetime64')\n",
    "# df.index = df.date\n",
    "# df.head(10)"
   ]
  },
  {
   "cell_type": "code",
   "execution_count": 7,
   "id": "c410f309",
   "metadata": {},
   "outputs": [],
   "source": [
    "# push dataframe to csv\n",
    "# df.to_csv('cohort_logs.csv')"
   ]
  },
  {
   "cell_type": "code",
   "execution_count": 8,
   "id": "44c1fbe2",
   "metadata": {},
   "outputs": [],
   "source": [
    "# check any potential remaining issues\n",
    "# df.info()"
   ]
  },
  {
   "cell_type": "markdown",
   "id": "d23bcd16",
   "metadata": {},
   "source": [
    "Looks good! Let's check the function real quick."
   ]
  },
  {
   "cell_type": "code",
   "execution_count": 9,
   "id": "88aaea1d",
   "metadata": {},
   "outputs": [
    {
     "name": "stdout",
     "output_type": "stream",
     "text": [
      "                 date      time                                 path  user_id  \\\n",
      "date                                                                            \n",
      "2018-01-26 2018-01-26  09:55:03                                    /        1   \n",
      "2018-01-26 2018-01-26  09:56:02                              java-ii        1   \n",
      "2018-01-26 2018-01-26  09:56:05  java-ii/object-oriented-programming        1   \n",
      "2018-01-26 2018-01-26  09:56:06   slides/object_oriented_programming        1   \n",
      "2018-01-26 2018-01-26  09:56:24            javascript-i/conditionals        2   \n",
      "2018-01-26 2018-01-26  09:56:41                   javascript-i/loops        2   \n",
      "2018-01-26 2018-01-26  09:56:46            javascript-i/conditionals        3   \n",
      "2018-01-26 2018-01-26  09:56:48               javascript-i/functions        3   \n",
      "2018-01-26 2018-01-26  09:56:59                   javascript-i/loops        2   \n",
      "2018-01-26 2018-01-26  09:58:26               javascript-i/functions        4   \n",
      "\n",
      "            cohort_id            ip  id     name     slack  start_date  \\\n",
      "date                                                                     \n",
      "2018-01-26        8.0  97.105.19.61   8  Hampton  #hampton  2015-09-22   \n",
      "2018-01-26        8.0  97.105.19.61   8  Hampton  #hampton  2015-09-22   \n",
      "2018-01-26        8.0  97.105.19.61   8  Hampton  #hampton  2015-09-22   \n",
      "2018-01-26        8.0  97.105.19.61   8  Hampton  #hampton  2015-09-22   \n",
      "2018-01-26       22.0  97.105.19.61  22    Teddy    #teddy  2018-01-08   \n",
      "2018-01-26       22.0  97.105.19.61  22    Teddy    #teddy  2018-01-08   \n",
      "2018-01-26       22.0  97.105.19.61  22    Teddy    #teddy  2018-01-08   \n",
      "2018-01-26       22.0  97.105.19.61  22    Teddy    #teddy  2018-01-08   \n",
      "2018-01-26       22.0  97.105.19.61  22    Teddy    #teddy  2018-01-08   \n",
      "2018-01-26       22.0  97.105.19.61  22    Teddy    #teddy  2018-01-08   \n",
      "\n",
      "              end_date           created_at           updated_at deleted_at  \\\n",
      "date                                                                          \n",
      "2018-01-26  2016-02-06  2016-06-14 19:52:26  2016-06-14 19:52:26       None   \n",
      "2018-01-26  2016-02-06  2016-06-14 19:52:26  2016-06-14 19:52:26       None   \n",
      "2018-01-26  2016-02-06  2016-06-14 19:52:26  2016-06-14 19:52:26       None   \n",
      "2018-01-26  2016-02-06  2016-06-14 19:52:26  2016-06-14 19:52:26       None   \n",
      "2018-01-26  2018-05-17  2018-01-08 13:59:10  2018-01-08 13:59:10       None   \n",
      "2018-01-26  2018-05-17  2018-01-08 13:59:10  2018-01-08 13:59:10       None   \n",
      "2018-01-26  2018-05-17  2018-01-08 13:59:10  2018-01-08 13:59:10       None   \n",
      "2018-01-26  2018-05-17  2018-01-08 13:59:10  2018-01-08 13:59:10       None   \n",
      "2018-01-26  2018-05-17  2018-01-08 13:59:10  2018-01-08 13:59:10       None   \n",
      "2018-01-26  2018-05-17  2018-01-08 13:59:10  2018-01-08 13:59:10       None   \n",
      "\n",
      "            program_id  \n",
      "date                    \n",
      "2018-01-26           1  \n",
      "2018-01-26           1  \n",
      "2018-01-26           1  \n",
      "2018-01-26           1  \n",
      "2018-01-26           2  \n",
      "2018-01-26           2  \n",
      "2018-01-26           2  \n",
      "2018-01-26           2  \n",
      "2018-01-26           2  \n",
      "2018-01-26           2  \n"
     ]
    }
   ],
   "source": [
    "import wrangle\n",
    "df = wrangle.wrangle_cohorts()"
   ]
  },
  {
   "cell_type": "code",
   "execution_count": null,
   "id": "aeca3ce8",
   "metadata": {},
   "outputs": [],
   "source": []
  }
 ],
 "metadata": {
  "kernelspec": {
   "display_name": "Python 3 (ipykernel)",
   "language": "python",
   "name": "python3"
  },
  "language_info": {
   "codemirror_mode": {
    "name": "ipython",
    "version": 3
   },
   "file_extension": ".py",
   "mimetype": "text/x-python",
   "name": "python",
   "nbconvert_exporter": "python",
   "pygments_lexer": "ipython3",
   "version": "3.8.8"
  }
 },
 "nbformat": 4,
 "nbformat_minor": 5
}
