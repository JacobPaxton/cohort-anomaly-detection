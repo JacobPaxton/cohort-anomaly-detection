{
 "cells": [
  {
   "cell_type": "code",
   "execution_count": 1,
   "id": "fd674e04",
   "metadata": {},
   "outputs": [],
   "source": [
    "import pandas as pd\n",
    "import seaborn as sns\n",
    "import matplotlib.pyplot as plt\n",
    "import re\n",
    "\n",
    "import wrangle"
   ]
  },
  {
   "cell_type": "markdown",
   "id": "ee0dba08",
   "metadata": {},
   "source": [
    "# Analysis\n",
    "Anonymize the IP addresses (added function to wrangle.py), then answer the following questions:\n",
    "1. Which lesson appears to attract the most traffic consistently across cohorts (per program)?\n",
    "    * added function that appends program information (PHP, Java, DS, Front End) to query\n",
    "2. Is there a cohort that referred to a lesson significantly more than other cohorts seemed to gloss over?\n",
    "3. Are there students who, when active, hardly access the curriculum? If so, what information do you have about these students?\n",
    "4. Is there any suspicious activity, such as users/machines/etc accessing the curriculum who shouldn’t be? Does it appear that any web-scraping is happening? Are there any suspicious IP addresses?\n",
    "5. At some point in 2019, the ability for students and alumni to access both curriculums (web dev to ds, ds to web dev) should have been shut off. Do you see any evidence of that happening? Did it happen before?\n",
    "6. What topics are grads continuing to reference after graduation and into their jobs (for each program)?\n",
    "7. Which lessons are least accessed?\n",
    "8. Anything else I should be aware of?"
   ]
  },
  {
   "cell_type": "code",
   "execution_count": 2,
   "id": "eefe8aea",
   "metadata": {},
   "outputs": [],
   "source": [
    "# import wrangled data\n",
    "df_original = wrangle.wrangle_cohorts()"
   ]
  },
  {
   "cell_type": "code",
   "execution_count": 3,
   "id": "0d095c1a",
   "metadata": {},
   "outputs": [
    {
     "data": {
      "text/html": [
       "<div>\n",
       "<style scoped>\n",
       "    .dataframe tbody tr th:only-of-type {\n",
       "        vertical-align: middle;\n",
       "    }\n",
       "\n",
       "    .dataframe tbody tr th {\n",
       "        vertical-align: top;\n",
       "    }\n",
       "\n",
       "    .dataframe thead th {\n",
       "        text-align: right;\n",
       "    }\n",
       "</style>\n",
       "<table border=\"1\" class=\"dataframe\">\n",
       "  <thead>\n",
       "    <tr style=\"text-align: right;\">\n",
       "      <th></th>\n",
       "      <th>date</th>\n",
       "      <th>time</th>\n",
       "      <th>path</th>\n",
       "      <th>user_id</th>\n",
       "      <th>ip</th>\n",
       "      <th>cohort</th>\n",
       "      <th>start_date</th>\n",
       "      <th>end_date</th>\n",
       "      <th>program_id</th>\n",
       "      <th>program_name</th>\n",
       "      <th>subdomain</th>\n",
       "    </tr>\n",
       "    <tr>\n",
       "      <th>datetime</th>\n",
       "      <th></th>\n",
       "      <th></th>\n",
       "      <th></th>\n",
       "      <th></th>\n",
       "      <th></th>\n",
       "      <th></th>\n",
       "      <th></th>\n",
       "      <th></th>\n",
       "      <th></th>\n",
       "      <th></th>\n",
       "      <th></th>\n",
       "    </tr>\n",
       "  </thead>\n",
       "  <tbody>\n",
       "    <tr>\n",
       "      <th>2018-01-26 09:55:03</th>\n",
       "      <td>2018-01-26</td>\n",
       "      <td>09:55:03</td>\n",
       "      <td>/</td>\n",
       "      <td>1</td>\n",
       "      <td>97.105.19.61</td>\n",
       "      <td>Hampton</td>\n",
       "      <td>2015-09-22</td>\n",
       "      <td>2016-02-06</td>\n",
       "      <td>1</td>\n",
       "      <td>PHP Full Stack Web Development</td>\n",
       "      <td>php</td>\n",
       "    </tr>\n",
       "    <tr>\n",
       "      <th>2018-01-26 09:56:02</th>\n",
       "      <td>2018-01-26</td>\n",
       "      <td>09:56:02</td>\n",
       "      <td>java-ii</td>\n",
       "      <td>1</td>\n",
       "      <td>97.105.19.61</td>\n",
       "      <td>Hampton</td>\n",
       "      <td>2015-09-22</td>\n",
       "      <td>2016-02-06</td>\n",
       "      <td>1</td>\n",
       "      <td>PHP Full Stack Web Development</td>\n",
       "      <td>php</td>\n",
       "    </tr>\n",
       "    <tr>\n",
       "      <th>2018-01-26 09:56:05</th>\n",
       "      <td>2018-01-26</td>\n",
       "      <td>09:56:05</td>\n",
       "      <td>java-ii/object-oriented-programming</td>\n",
       "      <td>1</td>\n",
       "      <td>97.105.19.61</td>\n",
       "      <td>Hampton</td>\n",
       "      <td>2015-09-22</td>\n",
       "      <td>2016-02-06</td>\n",
       "      <td>1</td>\n",
       "      <td>PHP Full Stack Web Development</td>\n",
       "      <td>php</td>\n",
       "    </tr>\n",
       "    <tr>\n",
       "      <th>2018-01-26 09:56:06</th>\n",
       "      <td>2018-01-26</td>\n",
       "      <td>09:56:06</td>\n",
       "      <td>slides/object_oriented_programming</td>\n",
       "      <td>1</td>\n",
       "      <td>97.105.19.61</td>\n",
       "      <td>Hampton</td>\n",
       "      <td>2015-09-22</td>\n",
       "      <td>2016-02-06</td>\n",
       "      <td>1</td>\n",
       "      <td>PHP Full Stack Web Development</td>\n",
       "      <td>php</td>\n",
       "    </tr>\n",
       "    <tr>\n",
       "      <th>2018-01-26 10:14:47</th>\n",
       "      <td>2018-01-26</td>\n",
       "      <td>10:14:47</td>\n",
       "      <td>/</td>\n",
       "      <td>11</td>\n",
       "      <td>97.105.19.61</td>\n",
       "      <td>Arches</td>\n",
       "      <td>2014-02-04</td>\n",
       "      <td>2014-04-22</td>\n",
       "      <td>1</td>\n",
       "      <td>PHP Full Stack Web Development</td>\n",
       "      <td>php</td>\n",
       "    </tr>\n",
       "  </tbody>\n",
       "</table>\n",
       "</div>"
      ],
      "text/plain": [
       "                           date      time  \\\n",
       "datetime                                    \n",
       "2018-01-26 09:55:03  2018-01-26  09:55:03   \n",
       "2018-01-26 09:56:02  2018-01-26  09:56:02   \n",
       "2018-01-26 09:56:05  2018-01-26  09:56:05   \n",
       "2018-01-26 09:56:06  2018-01-26  09:56:06   \n",
       "2018-01-26 10:14:47  2018-01-26  10:14:47   \n",
       "\n",
       "                                                    path  user_id  \\\n",
       "datetime                                                            \n",
       "2018-01-26 09:55:03                                    /        1   \n",
       "2018-01-26 09:56:02                              java-ii        1   \n",
       "2018-01-26 09:56:05  java-ii/object-oriented-programming        1   \n",
       "2018-01-26 09:56:06   slides/object_oriented_programming        1   \n",
       "2018-01-26 10:14:47                                    /       11   \n",
       "\n",
       "                               ip   cohort  start_date    end_date  \\\n",
       "datetime                                                             \n",
       "2018-01-26 09:55:03  97.105.19.61  Hampton  2015-09-22  2016-02-06   \n",
       "2018-01-26 09:56:02  97.105.19.61  Hampton  2015-09-22  2016-02-06   \n",
       "2018-01-26 09:56:05  97.105.19.61  Hampton  2015-09-22  2016-02-06   \n",
       "2018-01-26 09:56:06  97.105.19.61  Hampton  2015-09-22  2016-02-06   \n",
       "2018-01-26 10:14:47  97.105.19.61   Arches  2014-02-04  2014-04-22   \n",
       "\n",
       "                     program_id                    program_name subdomain  \n",
       "datetime                                                                   \n",
       "2018-01-26 09:55:03           1  PHP Full Stack Web Development       php  \n",
       "2018-01-26 09:56:02           1  PHP Full Stack Web Development       php  \n",
       "2018-01-26 09:56:05           1  PHP Full Stack Web Development       php  \n",
       "2018-01-26 09:56:06           1  PHP Full Stack Web Development       php  \n",
       "2018-01-26 10:14:47           1  PHP Full Stack Web Development       php  "
      ]
     },
     "execution_count": 3,
     "metadata": {},
     "output_type": "execute_result"
    }
   ],
   "source": [
    "df = df_original.copy()\n",
    "df.head()"
   ]
  },
  {
   "cell_type": "markdown",
   "id": "8f414a85",
   "metadata": {},
   "source": [
    "# Which lesson appears to attract the most traffic consistently across cohorts (per program)?\n",
    "1. PHP: content/html-css (262)\n",
    "2. Java: javascript-i/introduction/working-with-data-types-operators-and-variables (7094)\n",
    "3. DS: classification/overview (1785)\n",
    "4. Front End: content/html-css"
   ]
  },
  {
   "cell_type": "code",
   "execution_count": 4,
   "id": "bc8a58db",
   "metadata": {},
   "outputs": [
    {
     "data": {
      "text/html": [
       "<div>\n",
       "<style scoped>\n",
       "    .dataframe tbody tr th:only-of-type {\n",
       "        vertical-align: middle;\n",
       "    }\n",
       "\n",
       "    .dataframe tbody tr th {\n",
       "        vertical-align: top;\n",
       "    }\n",
       "\n",
       "    .dataframe thead th {\n",
       "        text-align: right;\n",
       "    }\n",
       "</style>\n",
       "<table border=\"1\" class=\"dataframe\">\n",
       "  <thead>\n",
       "    <tr style=\"text-align: right;\">\n",
       "      <th></th>\n",
       "      <th>path</th>\n",
       "      <th>is_lesson</th>\n",
       "      <th>html_request</th>\n",
       "      <th>php_request</th>\n",
       "      <th>alter_path</th>\n",
       "    </tr>\n",
       "    <tr>\n",
       "      <th>datetime</th>\n",
       "      <th></th>\n",
       "      <th></th>\n",
       "      <th></th>\n",
       "      <th></th>\n",
       "      <th></th>\n",
       "    </tr>\n",
       "  </thead>\n",
       "  <tbody>\n",
       "    <tr>\n",
       "      <th>2020-03-30 16:13:15</th>\n",
       "      <td>/</td>\n",
       "      <td>False</td>\n",
       "      <td>False</td>\n",
       "      <td>False</td>\n",
       "      <td>/</td>\n",
       "    </tr>\n",
       "    <tr>\n",
       "      <th>2019-04-15 09:37:17</th>\n",
       "      <td>examples/javascript/defuse-the-bom.html</td>\n",
       "      <td>False</td>\n",
       "      <td>True</td>\n",
       "      <td>False</td>\n",
       "      <td>examples/javascript/defuse-the-bom</td>\n",
       "    </tr>\n",
       "    <tr>\n",
       "      <th>2019-10-15 10:42:24</th>\n",
       "      <td>mysql/clauses/order-by</td>\n",
       "      <td>True</td>\n",
       "      <td>False</td>\n",
       "      <td>False</td>\n",
       "      <td>mysql/clauses/order-by</td>\n",
       "    </tr>\n",
       "  </tbody>\n",
       "</table>\n",
       "</div>"
      ],
      "text/plain": [
       "                                                        path  is_lesson  \\\n",
       "datetime                                                                  \n",
       "2020-03-30 16:13:15                                        /      False   \n",
       "2019-04-15 09:37:17  examples/javascript/defuse-the-bom.html      False   \n",
       "2019-10-15 10:42:24                   mysql/clauses/order-by       True   \n",
       "\n",
       "                     html_request  php_request  \\\n",
       "datetime                                         \n",
       "2020-03-30 16:13:15         False        False   \n",
       "2019-04-15 09:37:17          True        False   \n",
       "2019-10-15 10:42:24         False        False   \n",
       "\n",
       "                                             alter_path  \n",
       "datetime                                                 \n",
       "2020-03-30 16:13:15                                   /  \n",
       "2019-04-15 09:37:17  examples/javascript/defuse-the-bom  \n",
       "2019-10-15 10:42:24              mysql/clauses/order-by  "
      ]
     },
     "execution_count": 4,
     "metadata": {},
     "output_type": "execute_result"
    }
   ],
   "source": [
    "# make path column make sense\n",
    "df = wrangle.lesson_identification(df) # bool column for identified lessons / non-lessons\n",
    "df = wrangle.html_php_requests(df) # bool columns for html and php requests\n",
    "df = wrangle.alter_paths(df) # add column for paths without the .html or .php suffix\n",
    "df[['path','is_lesson','html_request','php_request','alter_path']].sample(3, random_state=123)"
   ]
  },
  {
   "cell_type": "code",
   "execution_count": 5,
   "id": "37817cfb",
   "metadata": {},
   "outputs": [
    {
     "name": "stdout",
     "output_type": "stream",
     "text": [
      "php\n",
      "content/html-css    262\n",
      "Name: alter_path, dtype: int64\n",
      "java\n",
      "javascript-i/introduction/working-with-data-types-operators-and-variables    7094\n",
      "Name: alter_path, dtype: int64\n",
      "fe\n",
      "content/html-css    2\n",
      "Name: alter_path, dtype: int64\n",
      "ds\n",
      "classification/overview    1785\n",
      "Name: alter_path, dtype: int64\n"
     ]
    }
   ],
   "source": [
    "# check top traffic lesson in each program\n",
    "for program in df.subdomain.unique():\n",
    "    print(program)\n",
    "    print(df[df.is_lesson & (df.subdomain == program)].alter_path.value_counts().head(1))"
   ]
  },
  {
   "cell_type": "markdown",
   "id": "9723f610",
   "metadata": {},
   "source": [
    "# Is there a cohort that referred to a lesson significantly more than other cohorts seemed to gloss over?\n",
    "- Voyageurs: java-i/introduction-to-java (447) - 3x the average - 22% higher than next cohort"
   ]
  },
  {
   "cell_type": "code",
   "execution_count": 6,
   "id": "4a1f1245",
   "metadata": {},
   "outputs": [],
   "source": [
    "# for cohort in df[df.subdomain == 'java'].cohort.unique():\n",
    "#     print(cohort)\n",
    "#     print(df[(df['cohort'] == cohort) & df.is_lesson]\\\n",
    "#           .alter_path.value_counts().head(1))"
   ]
  },
  {
   "cell_type": "code",
   "execution_count": 7,
   "id": "a3d564c3",
   "metadata": {},
   "outputs": [],
   "source": [
    "# df[df.alter_path == 'java-i/introduction-to-java']\\\n",
    "# .groupby('cohort').alter_path.count().sort_values().mean()\n",
    "\n",
    "# 447 / 154"
   ]
  },
  {
   "cell_type": "markdown",
   "id": "91919904",
   "metadata": {},
   "source": [
    "# Are there students who, when active, hardly access the curriculum? If so, what information do you have about these students?\n",
    "- Yes; PHP and Java students make up nearly all of bottom 100"
   ]
  },
  {
   "cell_type": "code",
   "execution_count": 8,
   "id": "c1e85c19",
   "metadata": {},
   "outputs": [],
   "source": [
    "# low_access = list(df.user_id.value_counts().tail(100).index) # identify lowest 30 active\n",
    "# for user in low_access:\n",
    "#     print(df[df.user_id == user].subdomain.unique())"
   ]
  },
  {
   "cell_type": "markdown",
   "id": "7e700c6b",
   "metadata": {},
   "source": [
    "# Is there any suspicious activity, such as users/machines/etc accessing the curriculum who shouldn’t be? Does it appear that any web-scraping is happening? Are there any suspicious IP addresses?\n",
    "1. Unauthorized access: No, all events have associated user id\n",
    "2. Web scraping: Lots of .html, .json, and .php requests, so probably\n",
    "3. Suspicious IP addresses: All events have associated user id, I'd say no"
   ]
  },
  {
   "cell_type": "code",
   "execution_count": 9,
   "id": "91be2fa4",
   "metadata": {},
   "outputs": [],
   "source": [
    "# df.user_id.unique() # all entries have associated user id, so no unauthorized access events logged\n",
    "# df.groupby('user_id').path.count().sort_values(ascending=False).head(15)"
   ]
  },
  {
   "cell_type": "markdown",
   "id": "711e88b2",
   "metadata": {},
   "source": [
    "# At some point in 2019, the ability for students and alumni to access both curriculums (web dev to ds, ds to web dev) should have been shut off. Do you see any evidence of that happening? Did it happen before?\n",
    "1. Yes, A user from Teddy (Java) accessed the DS Classification module twice in 2020\n",
    "2. I don't know, the first DS cohort was mid-2019 and the ability changed in 2019"
   ]
  },
  {
   "cell_type": "code",
   "execution_count": 10,
   "id": "d394671d",
   "metadata": {},
   "outputs": [
    {
     "data": {
      "text/plain": [
       "Staff    1592\n",
       "Teddy       2\n",
       "Name: cohort, dtype: int64"
      ]
     },
     "execution_count": 10,
     "metadata": {},
     "output_type": "execute_result"
    }
   ],
   "source": [
    "# create new dataframe for java cohorts in 2020\n",
    "df_2020_java = df[(df.index.year == 2020) & (df.subdomain == 'java')]\n",
    "# check if java cohorts in 2020 accessed the DS classification module\n",
    "df_2020_java[df_2020_java.path.str.contains('classification')].cohort.value_counts()"
   ]
  },
  {
   "cell_type": "code",
   "execution_count": 11,
   "id": "48fc05b2",
   "metadata": {},
   "outputs": [
    {
     "data": {
      "text/html": [
       "<div>\n",
       "<style scoped>\n",
       "    .dataframe tbody tr th:only-of-type {\n",
       "        vertical-align: middle;\n",
       "    }\n",
       "\n",
       "    .dataframe tbody tr th {\n",
       "        vertical-align: top;\n",
       "    }\n",
       "\n",
       "    .dataframe thead th {\n",
       "        text-align: right;\n",
       "    }\n",
       "</style>\n",
       "<table border=\"1\" class=\"dataframe\">\n",
       "  <thead>\n",
       "    <tr style=\"text-align: right;\">\n",
       "      <th></th>\n",
       "      <th>date</th>\n",
       "      <th>time</th>\n",
       "      <th>path</th>\n",
       "      <th>user_id</th>\n",
       "      <th>ip</th>\n",
       "      <th>cohort</th>\n",
       "      <th>start_date</th>\n",
       "      <th>end_date</th>\n",
       "      <th>program_id</th>\n",
       "      <th>program_name</th>\n",
       "      <th>subdomain</th>\n",
       "      <th>is_lesson</th>\n",
       "      <th>html_request</th>\n",
       "      <th>php_request</th>\n",
       "      <th>alter_path</th>\n",
       "    </tr>\n",
       "    <tr>\n",
       "      <th>datetime</th>\n",
       "      <th></th>\n",
       "      <th></th>\n",
       "      <th></th>\n",
       "      <th></th>\n",
       "      <th></th>\n",
       "      <th></th>\n",
       "      <th></th>\n",
       "      <th></th>\n",
       "      <th></th>\n",
       "      <th></th>\n",
       "      <th></th>\n",
       "      <th></th>\n",
       "      <th></th>\n",
       "      <th></th>\n",
       "      <th></th>\n",
       "    </tr>\n",
       "  </thead>\n",
       "  <tbody>\n",
       "    <tr>\n",
       "      <th>2020-11-10 10:14:29</th>\n",
       "      <td>2020-11-10</td>\n",
       "      <td>10:14:29</td>\n",
       "      <td>classification/overview</td>\n",
       "      <td>20</td>\n",
       "      <td>104.190.242.242</td>\n",
       "      <td>Teddy</td>\n",
       "      <td>2018-01-08</td>\n",
       "      <td>2018-05-17</td>\n",
       "      <td>2</td>\n",
       "      <td>Java Full Stack Web Development</td>\n",
       "      <td>java</td>\n",
       "      <td>True</td>\n",
       "      <td>False</td>\n",
       "      <td>False</td>\n",
       "      <td>classification/overview</td>\n",
       "    </tr>\n",
       "    <tr>\n",
       "      <th>2020-11-10 10:14:29</th>\n",
       "      <td>2020-11-10</td>\n",
       "      <td>10:14:29</td>\n",
       "      <td>classification/scale_features_or_not.svg</td>\n",
       "      <td>20</td>\n",
       "      <td>104.190.242.242</td>\n",
       "      <td>Teddy</td>\n",
       "      <td>2018-01-08</td>\n",
       "      <td>2018-05-17</td>\n",
       "      <td>2</td>\n",
       "      <td>Java Full Stack Web Development</td>\n",
       "      <td>java</td>\n",
       "      <td>False</td>\n",
       "      <td>False</td>\n",
       "      <td>False</td>\n",
       "      <td>classification/scale_features_or_not.svg</td>\n",
       "    </tr>\n",
       "  </tbody>\n",
       "</table>\n",
       "</div>"
      ],
      "text/plain": [
       "                           date      time  \\\n",
       "datetime                                    \n",
       "2020-11-10 10:14:29  2020-11-10  10:14:29   \n",
       "2020-11-10 10:14:29  2020-11-10  10:14:29   \n",
       "\n",
       "                                                         path  user_id  \\\n",
       "datetime                                                                 \n",
       "2020-11-10 10:14:29                   classification/overview       20   \n",
       "2020-11-10 10:14:29  classification/scale_features_or_not.svg       20   \n",
       "\n",
       "                                  ip cohort  start_date    end_date  \\\n",
       "datetime                                                              \n",
       "2020-11-10 10:14:29  104.190.242.242  Teddy  2018-01-08  2018-05-17   \n",
       "2020-11-10 10:14:29  104.190.242.242  Teddy  2018-01-08  2018-05-17   \n",
       "\n",
       "                     program_id                     program_name subdomain  \\\n",
       "datetime                                                                     \n",
       "2020-11-10 10:14:29           2  Java Full Stack Web Development      java   \n",
       "2020-11-10 10:14:29           2  Java Full Stack Web Development      java   \n",
       "\n",
       "                     is_lesson  html_request  php_request  \\\n",
       "datetime                                                    \n",
       "2020-11-10 10:14:29       True         False        False   \n",
       "2020-11-10 10:14:29      False         False        False   \n",
       "\n",
       "                                                   alter_path  \n",
       "datetime                                                       \n",
       "2020-11-10 10:14:29                   classification/overview  \n",
       "2020-11-10 10:14:29  classification/scale_features_or_not.svg  "
      ]
     },
     "execution_count": 11,
     "metadata": {},
     "output_type": "execute_result"
    }
   ],
   "source": [
    "# create a mask to oust the cross-access\n",
    "mask = df_2020_java.path.str.contains('classification') & (df_2020_java.cohort == 'Teddy')\n",
    "# check\n",
    "df_2020_java[mask]"
   ]
  },
  {
   "cell_type": "markdown",
   "id": "5a2fea26",
   "metadata": {},
   "source": [
    "# What topics are grads continuing to reference after graduation and into their jobs (for each program)?\n",
    "- Nearly all of top-referenced lessons are in the Fundamentals module"
   ]
  },
  {
   "cell_type": "code",
   "execution_count": 12,
   "id": "cf49d54d",
   "metadata": {},
   "outputs": [],
   "source": [
    "# # by cohort\n",
    "# for cohort in df.cohort.unique():\n",
    "#     # get end date\n",
    "#     grad_date = df[df.cohort == cohort].end_date.unique()[0]\n",
    "#     # create mask for post-grad lesson access for the cohort\n",
    "#     mask = (df.cohort == cohort) & (df.date > df.end_date) & df.is_lesson\n",
    "#     # add all post-grad path requests to list\n",
    "#     cohort_access_list = df[mask].alter_path.to_list()\n",
    "#     # make a dataframe for all post-grad queries\n",
    "#     grad_df = pd.DataFrame({cohort:cohort_access_list})\n",
    "#     # check most-queried\n",
    "#     highest_row = grad_df.value_counts().head(1)\n",
    "#     # print most-queried (still by cohort)\n",
    "#     print(highest_row)"
   ]
  },
  {
   "cell_type": "markdown",
   "id": "f00252e6",
   "metadata": {},
   "source": [
    "# Which lessons are least accessed?\n",
    "1. There are a lot of paths that seem to be lessons but only have one request- are they deprecated? I don't feel confident choosing any."
   ]
  },
  {
   "cell_type": "code",
   "execution_count": 13,
   "id": "13bca3b3",
   "metadata": {},
   "outputs": [],
   "source": [
    "# check lowest 50 accessed paths\n",
    "# df[df.is_lesson].groupby('subdomain').alter_path.value_counts().tail(50)"
   ]
  },
  {
   "cell_type": "markdown",
   "id": "293cb0b1",
   "metadata": {},
   "source": [
    "# Anything else I should be aware of?\n",
    "- If you're focused on reducing student reference to the curriculum, let me know, I can look into that further.\n",
    "- If you're focused on identifying potential unauthorized access to the curriculum, let me know, I can look into that further."
   ]
  },
  {
   "cell_type": "code",
   "execution_count": null,
   "id": "826631d9",
   "metadata": {},
   "outputs": [],
   "source": []
  }
 ],
 "metadata": {
  "kernelspec": {
   "display_name": "Python 3 (ipykernel)",
   "language": "python",
   "name": "python3"
  },
  "language_info": {
   "codemirror_mode": {
    "name": "ipython",
    "version": 3
   },
   "file_extension": ".py",
   "mimetype": "text/x-python",
   "name": "python",
   "nbconvert_exporter": "python",
   "pygments_lexer": "ipython3",
   "version": "3.8.8"
  }
 },
 "nbformat": 4,
 "nbformat_minor": 5
}
